{
  "nbformat": 4,
  "nbformat_minor": 0,
  "metadata": {
    "colab": {
      "provenance": [],
      "authorship_tag": "ABX9TyNodYvBr1X3LO+ZkPXBjxON",
      "include_colab_link": true
    },
    "kernelspec": {
      "name": "python3",
      "display_name": "Python 3"
    },
    "language_info": {
      "name": "python"
    }
  },
  "cells": [
    {
      "cell_type": "markdown",
      "metadata": {
        "id": "view-in-github",
        "colab_type": "text"
      },
      "source": [
        "<a href=\"https://colab.research.google.com/github/kaiyu25/Introduction-to-Computers/blob/main/0517.ipynb\" target=\"_parent\"><img src=\"https://colab.research.google.com/assets/colab-badge.svg\" alt=\"Open In Colab\"/></a>"
      ]
    },
    {
      "cell_type": "code",
      "execution_count": null,
      "metadata": {
        "colab": {
          "base_uri": "https://localhost:8080/"
        },
        "id": "q2Au6rNBx_hM",
        "outputId": "9f0b4753-84b5-4c2a-99d8-4de765c5e85f"
      },
      "outputs": [
        {
          "output_type": "stream",
          "name": "stdout",
          "text": [
            "score: 70\n",
            "Grade is: C\n"
          ]
        }
      ],
      "source": [
        "score = int(input(\"score: \"))\n",
        "if score >= 90:\n",
        "    print('Grade is: A')\n",
        "elif score >= 80:\n",
        "    print('Grade is: B')\n",
        "elif score >= 70:\n",
        "    print('Grade is: C')\n",
        "elif score >= 60:\n",
        "    print('Grade is: D')\n",
        "else:\n",
        "    print('Grade is: F')"
      ]
    },
    {
      "cell_type": "code",
      "source": [
        "print(\"今天會下雨嗎？\")\n",
        "a=input()\n",
        "if a==\"y\" or a==\"Y\":\n",
        "  print(\"出門記得帶傘\")\n",
        "elif a==\"N\" or a==\"n\":\n",
        "  print(\"不用帶傘\")\n",
        "else:\n",
        "  print(\"輸入錯誤，請重新輸入\")"
      ],
      "metadata": {
        "id": "4DS-5mKu4ZVa",
        "colab": {
          "base_uri": "https://localhost:8080/"
        },
        "outputId": "24d23de1-9802-4e08-c400-3972af76cb1d"
      },
      "execution_count": 5,
      "outputs": [
        {
          "output_type": "stream",
          "name": "stdout",
          "text": [
            "今天會下雨嗎？\n",
            "e\n",
            "輸入錯誤，請重新輸入\n"
          ]
        }
      ]
    },
    {
      "cell_type": "code",
      "source": [
        "a=float(input(\"請輸入體溫：\"))\n",
        "if a >= 37.5:\n",
        "  print(\"體溫過高\")\n",
        "elif a <= 37.4 or a>=36.9:\n",
        "  print(\"體溫略高\")\n",
        "elif a <= 34 or a>=36.9:\n",
        "  print(\"體溫正常\")\n",
        "else:\n",
        "  print(\"體溫異常，請重新量測\")"
      ],
      "metadata": {
        "colab": {
          "base_uri": "https://localhost:8080/"
        },
        "id": "ZoHyXU4K2n8i",
        "outputId": "98595756-0e2c-4570-c198-adf6bd972d8e"
      },
      "execution_count": null,
      "outputs": [
        {
          "output_type": "stream",
          "name": "stdout",
          "text": [
            "請輸入體溫：35.8\n",
            "體溫略高\n"
          ]
        }
      ]
    },
    {
      "cell_type": "code",
      "source": [
        "score = int(input(\"請輸入成績: \"))\n",
        "if score >= 90:\n",
        "    print('A')\n",
        "elif score >= 80:\n",
        "    print('B')\n",
        "elif score >= 70:\n",
        "    print('C')\n",
        "elif score >= 60:\n",
        "    print('D')\n",
        "else:\n",
        "    print('E')"
      ],
      "metadata": {
        "id": "S-SaX6NS4KsI",
        "colab": {
          "base_uri": "https://localhost:8080/"
        },
        "outputId": "1ce19148-69e8-4c93-f5c0-75b81af326cc"
      },
      "execution_count": 6,
      "outputs": [
        {
          "output_type": "stream",
          "name": "stdout",
          "text": [
            "請輸入成績: 50\n",
            "E\n"
          ]
        }
      ]
    },
    {
      "cell_type": "code",
      "source": [
        "b=int(input('請輸入月份：'))\n",
        "if b==3 or b==4 or b==5:\n",
        "  print('{}月是春天'.format(b))\n",
        "elif b==6 or b==7 or b==8:\n",
        "  print('{}月是夏天'.format(b))\n",
        "elif b==9 or b==10 or b==11:\n",
        "  print('{}月是秋天'.format(b))\n",
        "elif b==12 or b==1 or b==2:\n",
        "  print('{}月是冬天'.format(b))\n",
        "else:\n",
        "  print('月份不在範圍內')"
      ],
      "metadata": {
        "colab": {
          "base_uri": "https://localhost:8080/"
        },
        "id": "4zpeyiy95oyF",
        "outputId": "17007d69-2ad2-44ff-a60f-1b5f199c4ce3"
      },
      "execution_count": 9,
      "outputs": [
        {
          "output_type": "stream",
          "name": "stdout",
          "text": [
            "請輸入月份：5\n",
            "5月是春天\n"
          ]
        }
      ]
    },
    {
      "cell_type": "code",
      "source": [
        "c=int(input('請輸入今年收入淨額：'))\n",
        "if c>=2000000:\n",
        "  print('付稅金額:{}元'.format(c*0.3))\n",
        "elif c>=1000000:\n",
        "  print('付稅金額:{}元'.format(c*0.21))\n",
        "elif c>=600000:\n",
        "  print('付稅金額:{}元'.format(c*0.13))\n",
        "elif c>=300000:\n",
        "  print('付稅金額:{}元'.format(c*0.06))\n",
        "else:\n",
        "  print('付稅金額:{}元'.format(0))"
      ],
      "metadata": {
        "colab": {
          "base_uri": "https://localhost:8080/"
        },
        "id": "v2qv1EVE6E1k",
        "outputId": "9951f57c-e6bb-4d29-b44a-c0ad999c918e"
      },
      "execution_count": 11,
      "outputs": [
        {
          "output_type": "stream",
          "name": "stdout",
          "text": [
            "請輸入今年收入淨額：2000000\n",
            "付稅金額:600000.0元\n"
          ]
        }
      ]
    },
    {
      "cell_type": "code",
      "source": [],
      "metadata": {
        "id": "eyUeb2137nYk"
      },
      "execution_count": null,
      "outputs": []
    }
  ]
}