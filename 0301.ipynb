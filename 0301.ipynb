{
  "nbformat": 4,
  "nbformat_minor": 0,
  "metadata": {
    "colab": {
      "provenance": [],
      "authorship_tag": "ABX9TyMCuDicNBO3BrstA3aEeMcF",
      "include_colab_link": true
    },
    "kernelspec": {
      "name": "python3",
      "display_name": "Python 3"
    },
    "language_info": {
      "name": "python"
    }
  },
  "cells": [
    {
      "cell_type": "markdown",
      "metadata": {
        "id": "view-in-github",
        "colab_type": "text"
      },
      "source": [
        "<a href=\"https://colab.research.google.com/github/kaiyu25/Introduction-to-Computers/blob/main/0301.ipynb\" target=\"_parent\"><img src=\"https://colab.research.google.com/assets/colab-badge.svg\" alt=\"Open In Colab\"/></a>"
      ]
    },
    {
      "cell_type": "code",
      "execution_count": 1,
      "metadata": {
        "colab": {
          "base_uri": "https://localhost:8080/"
        },
        "id": "LC5AVFE7UrUy",
        "outputId": "df135a14-4048-4704-99c6-1f2ab6bbd0b0"
      },
      "outputs": [
        {
          "output_type": "stream",
          "name": "stdout",
          "text": [
            "Hello!\n"
          ]
        }
      ],
      "source": [
        "print(\"Hello!\")"
      ]
    },
    {
      "cell_type": "code",
      "source": [
        "print(\"你好！\")"
      ],
      "metadata": {
        "colab": {
          "base_uri": "https://localhost:8080/"
        },
        "id": "K687ryAwUyDV",
        "outputId": "db73a6b6-0803-4e12-aa04-012e06bdf64f"
      },
      "execution_count": 2,
      "outputs": [
        {
          "output_type": "stream",
          "name": "stdout",
          "text": [
            "你好！\n"
          ]
        }
      ]
    },
    {
      "cell_type": "code",
      "source": [
        "print(\"今天是3/1!\")"
      ],
      "metadata": {
        "colab": {
          "base_uri": "https://localhost:8080/"
        },
        "id": "fZ9XYtZLU1v6",
        "outputId": "5f47b094-319f-435b-f1ee-e803bed5016c"
      },
      "execution_count": 3,
      "outputs": [
        {
          "output_type": "stream",
          "name": "stdout",
          "text": [
            "今天是3/1!\n"
          ]
        }
      ]
    },
    {
      "cell_type": "code",
      "source": [
        "print(\"411550089 温鎧瑜\")"
      ],
      "metadata": {
        "colab": {
          "base_uri": "https://localhost:8080/"
        },
        "id": "9setGYxSVAFV",
        "outputId": "d4049b25-3e44-4b16-be7b-abc397670197"
      },
      "execution_count": 4,
      "outputs": [
        {
          "output_type": "stream",
          "name": "stdout",
          "text": [
            "411550089 温鎧瑜\n"
          ]
        }
      ]
    }
  ]
}